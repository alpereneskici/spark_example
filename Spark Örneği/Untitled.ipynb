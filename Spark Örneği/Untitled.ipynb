{
 "cells": [
  {
   "cell_type": "code",
   "execution_count": 13,
   "id": "527d183d",
   "metadata": {},
   "outputs": [],
   "source": [
    "import findspark"
   ]
  },
  {
   "cell_type": "code",
   "execution_count": 21,
   "id": "1d7fbd5f",
   "metadata": {},
   "outputs": [],
   "source": [
    "findspark.init('C:\\Spark\\spark-3.3.0-bin-hadoop3')"
   ]
  },
  {
   "cell_type": "code",
   "execution_count": 23,
   "id": "50ea69c0",
   "metadata": {},
   "outputs": [],
   "source": [
    "from pyspark.sql import SparkSession"
   ]
  },
  {
   "cell_type": "code",
   "execution_count": 26,
   "id": "1a4b8ed5",
   "metadata": {},
   "outputs": [],
   "source": [
    "spark = SparkSession.builder.getOrCreate()\n"
   ]
  },
  {
   "cell_type": "code",
   "execution_count": 27,
   "id": "4004efe3",
   "metadata": {},
   "outputs": [],
   "source": [
    "#spark.read.format diyerek verileri okuyacağımız dosyanın türünü tanıtıyoruz.load diyerek dosyamızı gösteriyoruz.\n",
    "dataset = spark.read.format('csv').option('header','true').load('Video_Games_Sales_as_at_22_Dec_2016.csv')"
   ]
  },
  {
   "cell_type": "code",
   "execution_count": 54,
   "id": "2d4bca5f",
   "metadata": {},
   "outputs": [],
   "source": [
    "#data oluşturup gönderdiğimiz dosyadaki hangi satırı sıralayacağımız belirliyoruz.\n",
    "data = dataset.groupBy('Platform').count().orderBy('count',ascending=False)"
   ]
  },
  {
   "cell_type": "code",
   "execution_count": 55,
   "id": "123168ed",
   "metadata": {},
   "outputs": [
    {
     "data": {
      "text/plain": [
       "[Row(Platform='PS2', count=2161),\n",
       " Row(Platform='DS', count=2152),\n",
       " Row(Platform='PS3', count=1331),\n",
       " Row(Platform='Wii', count=1320),\n",
       " Row(Platform='X360', count=1262),\n",
       " Row(Platform='PSP', count=1209),\n",
       " Row(Platform='PS', count=1197),\n",
       " Row(Platform='PC', count=974),\n",
       " Row(Platform='XB', count=824),\n",
       " Row(Platform='GBA', count=822),\n",
       " Row(Platform='GC', count=556),\n",
       " Row(Platform='3DS', count=520),\n",
       " Row(Platform='PSV', count=432),\n",
       " Row(Platform='PS4', count=393),\n",
       " Row(Platform='N64', count=319),\n",
       " Row(Platform='XOne', count=247),\n",
       " Row(Platform='SNES', count=239),\n",
       " Row(Platform='SAT', count=173),\n",
       " Row(Platform='WiiU', count=147),\n",
       " Row(Platform='2600', count=133),\n",
       " Row(Platform='NES', count=98),\n",
       " Row(Platform='GB', count=98),\n",
       " Row(Platform='DC', count=52),\n",
       " Row(Platform='GEN', count=29),\n",
       " Row(Platform='NG', count=12),\n",
       " Row(Platform='SCD', count=6),\n",
       " Row(Platform='WS', count=6),\n",
       " Row(Platform='3DO', count=3),\n",
       " Row(Platform='TG16', count=2),\n",
       " Row(Platform='PCFX', count=1),\n",
       " Row(Platform='GG', count=1)]"
      ]
     },
     "execution_count": 55,
     "metadata": {},
     "output_type": "execute_result"
    }
   ],
   "source": [
    "#sıraladığımız datayı gösteriyoruz\n",
    "data.collect()"
   ]
  },
  {
   "cell_type": "code",
   "execution_count": 56,
   "id": "319aa3bf",
   "metadata": {},
   "outputs": [],
   "source": [
    "data2 = dataset.groupBy('Genre').count().orderBy('count',ascending=False)"
   ]
  },
  {
   "cell_type": "code",
   "execution_count": 57,
   "id": "56034085",
   "metadata": {},
   "outputs": [
    {
     "data": {
      "text/plain": [
       "[Row(Genre='Action', count=3370),\n",
       " Row(Genre='Sports', count=2348),\n",
       " Row(Genre='Misc', count=1750),\n",
       " Row(Genre='Role-Playing', count=1500),\n",
       " Row(Genre='Shooter', count=1323),\n",
       " Row(Genre='Adventure', count=1303),\n",
       " Row(Genre='Racing', count=1249),\n",
       " Row(Genre='Platform', count=888),\n",
       " Row(Genre='Simulation', count=874),\n",
       " Row(Genre='Fighting', count=849),\n",
       " Row(Genre='Strategy', count=683),\n",
       " Row(Genre='Puzzle', count=580),\n",
       " Row(Genre=None, count=2)]"
      ]
     },
     "execution_count": 57,
     "metadata": {},
     "output_type": "execute_result"
    }
   ],
   "source": [
    "data2.collect()"
   ]
  },
  {
   "cell_type": "code",
   "execution_count": null,
   "id": "aea671e9",
   "metadata": {},
   "outputs": [],
   "source": []
  }
 ],
 "metadata": {
  "kernelspec": {
   "display_name": "Python 3 (ipykernel)",
   "language": "python",
   "name": "python3"
  },
  "language_info": {
   "codemirror_mode": {
    "name": "ipython",
    "version": 3
   },
   "file_extension": ".py",
   "mimetype": "text/x-python",
   "name": "python",
   "nbconvert_exporter": "python",
   "pygments_lexer": "ipython3",
   "version": "3.9.12"
  }
 },
 "nbformat": 4,
 "nbformat_minor": 5
}
